{
 "cells": [
  {
   "cell_type": "code",
   "execution_count": 1,
   "id": "6d83da65",
   "metadata": {},
   "outputs": [],
   "source": [
    "import pandas as pd\n",
    "import numpy as np\n",
    "import pickle\n",
    "import nltk\n",
    "import re\n",
    "from nltk.corpus import stopwords\n",
    "from nltk.stem.porter import PorterStemmer\n"
   ]
  },
  {
   "cell_type": "code",
   "execution_count": 2,
   "id": "1a30b35a",
   "metadata": {},
   "outputs": [],
   "source": [
    "df = pd.read_csv(r\"Dataset\\dataset.csv\")\n"
   ]
  },
  {
   "cell_type": "code",
   "execution_count": 3,
   "id": "8ccc61c3",
   "metadata": {},
   "outputs": [
    {
     "data": {
      "text/html": [
       "<div>\n",
       "<style scoped>\n",
       "    .dataframe tbody tr th:only-of-type {\n",
       "        vertical-align: middle;\n",
       "    }\n",
       "\n",
       "    .dataframe tbody tr th {\n",
       "        vertical-align: top;\n",
       "    }\n",
       "\n",
       "    .dataframe thead th {\n",
       "        text-align: right;\n",
       "    }\n",
       "</style>\n",
       "<table border=\"1\" class=\"dataframe\">\n",
       "  <thead>\n",
       "    <tr style=\"text-align: right;\">\n",
       "      <th></th>\n",
       "      <th>v1</th>\n",
       "      <th>v2</th>\n",
       "    </tr>\n",
       "  </thead>\n",
       "  <tbody>\n",
       "    <tr>\n",
       "      <th>0</th>\n",
       "      <td>fraud</td>\n",
       "      <td>hello, i m bank manager of SBI, ur debit card ...</td>\n",
       "    </tr>\n",
       "    <tr>\n",
       "      <th>1</th>\n",
       "      <td>fraud</td>\n",
       "      <td>Todays Vodafone numbers ending with 4882 are s...</td>\n",
       "    </tr>\n",
       "    <tr>\n",
       "      <th>2</th>\n",
       "      <td>normal</td>\n",
       "      <td>Please don't say like that. Hi hi hi</td>\n",
       "    </tr>\n",
       "    <tr>\n",
       "      <th>3</th>\n",
       "      <td>normal</td>\n",
       "      <td>Thank you!</td>\n",
       "    </tr>\n",
       "    <tr>\n",
       "      <th>4</th>\n",
       "      <td>normal</td>\n",
       "      <td>Oh that was a forwarded message. I thought you...</td>\n",
       "    </tr>\n",
       "    <tr>\n",
       "      <th>...</th>\n",
       "      <td>...</td>\n",
       "      <td>...</td>\n",
       "    </tr>\n",
       "    <tr>\n",
       "      <th>5922</th>\n",
       "      <td>fraud</td>\n",
       "      <td>to get 1000 INR voucher please call on 8898655...</td>\n",
       "    </tr>\n",
       "    <tr>\n",
       "      <th>5923</th>\n",
       "      <td>fraud</td>\n",
       "      <td>to get free access of google cloud account hit...</td>\n",
       "    </tr>\n",
       "    <tr>\n",
       "      <th>5924</th>\n",
       "      <td>fraud</td>\n",
       "      <td>to get free AWS cloud account hit on given mes...</td>\n",
       "    </tr>\n",
       "    <tr>\n",
       "      <th>5925</th>\n",
       "      <td>fraud</td>\n",
       "      <td>to get free access of Microsoft Azure hit on g...</td>\n",
       "    </tr>\n",
       "    <tr>\n",
       "      <th>5926</th>\n",
       "      <td>fraud</td>\n",
       "      <td>hello sir, we are from your bank have you fill...</td>\n",
       "    </tr>\n",
       "  </tbody>\n",
       "</table>\n",
       "<p>5927 rows × 2 columns</p>\n",
       "</div>"
      ],
      "text/plain": [
       "          v1                                                 v2\n",
       "0      fraud  hello, i m bank manager of SBI, ur debit card ...\n",
       "1      fraud  Todays Vodafone numbers ending with 4882 are s...\n",
       "2     normal               Please don't say like that. Hi hi hi\n",
       "3     normal                                         Thank you!\n",
       "4     normal  Oh that was a forwarded message. I thought you...\n",
       "...      ...                                                ...\n",
       "5922   fraud  to get 1000 INR voucher please call on 8898655...\n",
       "5923   fraud  to get free access of google cloud account hit...\n",
       "5924   fraud  to get free AWS cloud account hit on given mes...\n",
       "5925   fraud  to get free access of Microsoft Azure hit on g...\n",
       "5926   fraud  hello sir, we are from your bank have you fill...\n",
       "\n",
       "[5927 rows x 2 columns]"
      ]
     },
     "execution_count": 3,
     "metadata": {},
     "output_type": "execute_result"
    }
   ],
   "source": [
    "df"
   ]
  },
  {
   "cell_type": "code",
   "execution_count": 4,
   "id": "45cd146f",
   "metadata": {},
   "outputs": [
    {
     "name": "stdout",
     "output_type": "stream",
     "text": [
      "       label                                            message\n",
      "0      fraud  hello, i m bank manager of SBI, ur debit card ...\n",
      "1      fraud  Todays Vodafone numbers ending with 4882 are s...\n",
      "2     normal               Please don't say like that. Hi hi hi\n",
      "3     normal                                         Thank you!\n",
      "4     normal  Oh that was a forwarded message. I thought you...\n",
      "...      ...                                                ...\n",
      "5922   fraud  to get 1000 INR voucher please call on 8898655...\n",
      "5923   fraud  to get free access of google cloud account hit...\n",
      "5924   fraud  to get free AWS cloud account hit on given mes...\n",
      "5925   fraud  to get free access of Microsoft Azure hit on g...\n",
      "5926   fraud  hello sir, we are from your bank have you fill...\n",
      "\n",
      "[5927 rows x 2 columns]\n"
     ]
    },
    {
     "data": {
      "text/html": [
       "<div>\n",
       "<style scoped>\n",
       "    .dataframe tbody tr th:only-of-type {\n",
       "        vertical-align: middle;\n",
       "    }\n",
       "\n",
       "    .dataframe tbody tr th {\n",
       "        vertical-align: top;\n",
       "    }\n",
       "\n",
       "    .dataframe thead th {\n",
       "        text-align: right;\n",
       "    }\n",
       "</style>\n",
       "<table border=\"1\" class=\"dataframe\">\n",
       "  <thead>\n",
       "    <tr style=\"text-align: right;\">\n",
       "      <th></th>\n",
       "      <th>label</th>\n",
       "      <th>message</th>\n",
       "    </tr>\n",
       "  </thead>\n",
       "  <tbody>\n",
       "    <tr>\n",
       "      <th>0</th>\n",
       "      <td>1</td>\n",
       "      <td>hello, i m bank manager of SBI, ur debit card ...</td>\n",
       "    </tr>\n",
       "    <tr>\n",
       "      <th>1</th>\n",
       "      <td>1</td>\n",
       "      <td>Todays Vodafone numbers ending with 4882 are s...</td>\n",
       "    </tr>\n",
       "    <tr>\n",
       "      <th>2</th>\n",
       "      <td>0</td>\n",
       "      <td>Please don't say like that. Hi hi hi</td>\n",
       "    </tr>\n",
       "    <tr>\n",
       "      <th>3</th>\n",
       "      <td>0</td>\n",
       "      <td>Thank you!</td>\n",
       "    </tr>\n",
       "    <tr>\n",
       "      <th>4</th>\n",
       "      <td>0</td>\n",
       "      <td>Oh that was a forwarded message. I thought you...</td>\n",
       "    </tr>\n",
       "    <tr>\n",
       "      <th>...</th>\n",
       "      <td>...</td>\n",
       "      <td>...</td>\n",
       "    </tr>\n",
       "    <tr>\n",
       "      <th>5922</th>\n",
       "      <td>1</td>\n",
       "      <td>to get 1000 INR voucher please call on 8898655...</td>\n",
       "    </tr>\n",
       "    <tr>\n",
       "      <th>5923</th>\n",
       "      <td>1</td>\n",
       "      <td>to get free access of google cloud account hit...</td>\n",
       "    </tr>\n",
       "    <tr>\n",
       "      <th>5924</th>\n",
       "      <td>1</td>\n",
       "      <td>to get free AWS cloud account hit on given mes...</td>\n",
       "    </tr>\n",
       "    <tr>\n",
       "      <th>5925</th>\n",
       "      <td>1</td>\n",
       "      <td>to get free access of Microsoft Azure hit on g...</td>\n",
       "    </tr>\n",
       "    <tr>\n",
       "      <th>5926</th>\n",
       "      <td>1</td>\n",
       "      <td>hello sir, we are from your bank have you fill...</td>\n",
       "    </tr>\n",
       "  </tbody>\n",
       "</table>\n",
       "<p>5927 rows × 2 columns</p>\n",
       "</div>"
      ],
      "text/plain": [
       "      label                                            message\n",
       "0         1  hello, i m bank manager of SBI, ur debit card ...\n",
       "1         1  Todays Vodafone numbers ending with 4882 are s...\n",
       "2         0               Please don't say like that. Hi hi hi\n",
       "3         0                                         Thank you!\n",
       "4         0  Oh that was a forwarded message. I thought you...\n",
       "...     ...                                                ...\n",
       "5922      1  to get 1000 INR voucher please call on 8898655...\n",
       "5923      1  to get free access of google cloud account hit...\n",
       "5924      1  to get free AWS cloud account hit on given mes...\n",
       "5925      1  to get free access of Microsoft Azure hit on g...\n",
       "5926      1  hello sir, we are from your bank have you fill...\n",
       "\n",
       "[5927 rows x 2 columns]"
      ]
     },
     "execution_count": 4,
     "metadata": {},
     "output_type": "execute_result"
    }
   ],
   "source": [
    "df.rename(columns={\"v1\": \"label\", \"v2\": \"message\"}, inplace=True)\n",
    "print(df)\n",
    "df['label'] = df['label'].map({'normal': 0, 'fraud': 1})\n",
    "df"
   ]
  },
  {
   "cell_type": "code",
   "execution_count": 5,
   "id": "3aed3e84",
   "metadata": {},
   "outputs": [],
   "source": [
    "corpus = []\n",
    "ps = PorterStemmer()\n",
    "\n",
    "for sms_string in list(df.message):\n",
    "    # Cleaning special character from the message\n",
    "    message = re.sub(pattern='[^a-zA-Z]', repl=' ', string=sms_string)\n",
    "\n",
    "    # Converting the entire message into lower case\n",
    "    message = message.lower()\n",
    "\n",
    "    # Tokenizing the review by words\n",
    "    words = message.split()\n",
    "\n",
    "    # Removing the stop words\n",
    "    words = [word for word in words if word not in set(stopwords.words('english'))]\n",
    "\n",
    "    # Stemming the words\n",
    "    words = [ps.stem(word) for word in words]\n",
    "\n",
    "    # Joining the stemmed words\n",
    "    message = ' '.join(words)\n",
    "\n",
    "    # Building a corpus of messages\n",
    "    corpus.append(message)\n"
   ]
  },
  {
   "cell_type": "code",
   "execution_count": 6,
   "id": "65c479bd",
   "metadata": {},
   "outputs": [],
   "source": [
    "from sklearn.feature_extraction.text import CountVectorizer\n",
    "cv = CountVectorizer(max_features=2500)\n",
    "pickle.dump(cv, open('transform.pkl', 'wb'))\n",
    "\n",
    "X = cv.fit_transform(corpus).toarray()\n",
    "# Extracting dependent variable from the dataset\n",
    "y = pd.get_dummies(df['label'])\n",
    "y = y.iloc[:, 1].values\n",
    "\n",
    "# Creating a pickle file for the CountVectorizer\n"
   ]
  },
  {
   "cell_type": "code",
   "execution_count": 7,
   "id": "2056f037",
   "metadata": {},
   "outputs": [],
   "source": [
    "from sklearn.model_selection import train_test_split\n",
    "X_train, X_test, y_train, y_test = train_test_split(X, y, test_size=0.20, random_state=0)\n"
   ]
  },
  {
   "cell_type": "code",
   "execution_count": 8,
   "id": "ba537b79",
   "metadata": {},
   "outputs": [],
   "source": [
    "# Fitting Naive Bayes to the Training set\n",
    "from sklearn.naive_bayes import MultinomialNB\n",
    "classifier = MultinomialNB(alpha=0.3)\n",
    "classifier.fit(X_train, y_train)\n",
    "# Creating a pickle file for the Multinomial Naive Bayes model\n",
    "filename = 'navmodel.pkl'\n",
    "pickle.dump(classifier, open(filename, 'wb'))\n",
    "y_pred=classifier.predict(X_test)\n"
   ]
  },
  {
   "cell_type": "code",
   "execution_count": 9,
   "id": "a8e2a1a9",
   "metadata": {},
   "outputs": [],
   "source": [
    "import matplotlib.pyplot as plt\n",
    "import seaborn as sns\n",
    "from sklearn.metrics import accuracy_score, precision_score, recall_score, f1_score, classification_report, confusion_matrix\n",
    "\n",
    "def evaluate_performance(y_true, y_pred, algorithm_name=\"Model\"):\n",
    "    # Calculate metrics\n",
    "    accuracy = accuracy_score(y_true, y_pred)\n",
    "    precision = precision_score(y_true, y_pred, average='binary')  # Use 'weighted' for multiclass\n",
    "    recall = recall_score(y_true, y_pred, average='binary')\n",
    "    f1 = f1_score(y_true, y_pred, average='binary')\n",
    "    report = classification_report(y_true, y_pred)\n",
    "    conf_matrix = confusion_matrix(y_true, y_pred)\n",
    "\n",
    "    # Print the metrics\n",
    "    print(f\"\\nPerformance Evaluation for {algorithm_name}:\")\n",
    "    print(f\"Accuracy: {accuracy:.2f}\")\n",
    "    print(f\"Precision: {precision:.2f}\")\n",
    "    print(f\"Recall: {recall:.2f}\")\n",
    "    print(f\"F1 Score: {f1:.2f}\")\n",
    "    print(\"Classification Report:\\n\", report)\n",
    "\n",
    "    # Plot the confusion matrix\n",
    "    plt.figure(figsize=(8, 6))\n",
    "    sns.heatmap(conf_matrix, annot=True, fmt='d', cmap='Blues', cbar=False)\n",
    "    plt.title(f'Confusion Matrix for {algorithm_name}')\n",
    "    plt.xlabel('Predicted Labels')\n",
    "    plt.ylabel('True Labels')\n",
    "    plt.show()\n"
   ]
  },
  {
   "cell_type": "code",
   "execution_count": 10,
   "id": "e2435c3c",
   "metadata": {},
   "outputs": [
    {
     "name": "stdout",
     "output_type": "stream",
     "text": [
      "\n",
      "Performance Evaluation for Proposed NBC:\n",
      "Accuracy: 0.98\n",
      "Precision: 0.87\n",
      "Recall: 0.92\n",
      "F1 Score: 0.90\n",
      "Classification Report:\n",
      "               precision    recall  f1-score   support\n",
      "\n",
      "           0       0.99      0.98      0.99      1056\n",
      "           1       0.87      0.92      0.90       130\n",
      "\n",
      "    accuracy                           0.98      1186\n",
      "   macro avg       0.93      0.95      0.94      1186\n",
      "weighted avg       0.98      0.98      0.98      1186\n",
      "\n"
     ]
    },
    {
     "data": {
      "image/png": "[encoded data removed]",
      "text/plain": [
       "<Figure size 800x600 with 1 Axes>"
      ]
     },
     "metadata": {},
     "output_type": "display_data"
    }
   ],
   "source": [
    "evaluate_performance(y_test, y_pred, \"Proposed NBC\")"
   ]
  },
  {
   "cell_type": "code",
   "execution_count": 11,
   "id": "66f097f0",
   "metadata": {},
   "outputs": [],
   "source": [
    "from sklearn.neighbors import KNeighborsClassifier\n",
    "import pickle\n",
    "\n",
    "# Fitting K-Nearest Neighbors to the Training set\n",
    "knn_classifier = KNeighborsClassifier(n_neighbors=5)  # You can change the number of neighbors if needed\n",
    "knn_classifier.fit(X_train, y_train)\n",
    "\n",
    "# Creating a pickle file for the KNN model\n",
    "filename = 'knnmodel.pkl'\n",
    "pickle.dump(knn_classifier, open(filename, 'wb'))\n",
    "\n",
    "# Predicting the Test set results\n",
    "y_pred = knn_classifier.predict(X_test)"
   ]
  },
  {
   "cell_type": "code",
   "execution_count": 12,
   "id": "835f3b40",
   "metadata": {},
   "outputs": [
    {
     "name": "stdout",
     "output_type": "stream",
     "text": [
      "\n",
      "Performance Evaluation for Existing KNN:\n",
      "Accuracy: 0.94\n",
      "Precision: 1.00\n",
      "Recall: 0.45\n",
      "F1 Score: 0.62\n",
      "Classification Report:\n",
      "               precision    recall  f1-score   support\n",
      "\n",
      "           0       0.94      1.00      0.97      1056\n",
      "           1       1.00      0.45      0.62       130\n",
      "\n",
      "    accuracy                           0.94      1186\n",
      "   macro avg       0.97      0.72      0.79      1186\n",
      "weighted avg       0.94      0.94      0.93      1186\n",
      "\n"
     ]
    },
    {
     "data": {
      "image/png": "[encoded data removed]",
      "text/plain": [
       "<Figure size 800x600 with 1 Axes>"
      ]
     },
     "metadata": {},
     "output_type": "display_data"
    }
   ],
   "source": [
    "evaluate_performance(y_test, y_pred, \"Existing KNN\")"
   ]
  },
  {
   "cell_type": "code",
   "execution_count": null,
   "id": "a84afb39",
   "metadata": {},
   "outputs": [],
   "source": []
  }
 ],
 "metadata": {
  "kernelspec": {
   "display_name": "Python 3 (ipykernel)",
   "language": "python",
   "name": "python3"
  },
  "language_info": {
   "codemirror_mode": {
    "name": "ipython",
    "version": 3
   },
   "file_extension": ".py",
   "mimetype": "text/x-python",
   "name": "python",
   "nbconvert_exporter": "python",
   "pygments_lexer": "ipython3",
   "version": "3.7.6"
  }
 },
 "nbformat": 4,
 "nbformat_minor": 5
}
